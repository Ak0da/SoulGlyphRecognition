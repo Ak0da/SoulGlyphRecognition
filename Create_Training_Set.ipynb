{
 "cells": [
  {
   "cell_type": "code",
   "execution_count": 3,
   "id": "fedb6f3e-cde7-4d2d-b031-ace571e9327f",
   "metadata": {},
   "outputs": [],
   "source": [
    "import torch\n",
    "import torchvision\n",
    "import time\n",
    "import random\n",
    "import math\n",
    "import json\n",
    "\n",
    "from PIL import Image, ImageFont, ImageDraw"
   ]
  },
  {
   "cell_type": "code",
   "execution_count": 4,
   "id": "d2467926-a72d-48a2-90df-509b39335bd1",
   "metadata": {},
   "outputs": [
    {
     "name": "stdout",
     "output_type": "stream",
     "text": [
      "torch.Size([1, 3, 619, 1100])\n"
     ]
    }
   ],
   "source": [
    "im = Image.open('./Test_Pictures/A_rhodesian-ridgeback.jpg')\n",
    "To_Tensor = torchvision.transforms.ToTensor()\n",
    "tensor_dog = To_Tensor(im).unsqueeze(0)\n",
    "print(tensor_dog.shape)"
   ]
  },
  {
   "cell_type": "code",
   "execution_count": 5,
   "id": "dc45a769-4f20-4ba7-942a-e7ed2ce23b12",
   "metadata": {},
   "outputs": [
    {
     "data": {
      "text/plain": [
       "'\\nmodel = torchvision.models.detection.fasterrcnn_resnet50_fpn_v2(\\n    weights=torchvision.models.detection.FasterRCNN_ResNet50_FPN_V2_Weights.DEFAULT,\\n    box_detections_per_img=100\\n)\\nmodel.train()\\n'"
      ]
     },
     "execution_count": 5,
     "metadata": {},
     "output_type": "execute_result"
    }
   ],
   "source": [
    "\"\"\"\n",
    "model = torchvision.models.detection.fasterrcnn_resnet50_fpn_v2(\n",
    "    weights=torchvision.models.detection.FasterRCNN_ResNet50_FPN_V2_Weights.DEFAULT,\n",
    "    box_detections_per_img=100\n",
    ")\n",
    "model.train()\n",
    "\"\"\""
   ]
  },
  {
   "cell_type": "code",
   "execution_count": 6,
   "id": "8ad646c8-78d0-4941-972a-88aefda8ae85",
   "metadata": {},
   "outputs": [],
   "source": [
    "#print(model.cpu()(tensor_dog))\n",
    "#print(model.cpu()(tensor_dog,[{'boxes':torch.FloatTensor([[0,0,10,10]]), 'labels':torch.zeros(1).long()}]))"
   ]
  },
  {
   "cell_type": "code",
   "execution_count": 7,
   "id": "b2c651b6-639a-4ce7-a940-397a35eebc3b",
   "metadata": {},
   "outputs": [],
   "source": [
    "alphabet = ['a','b','c','d','e','f','g','h','i','j','k','l','m','n','o','p','q','r','s','t','u','v','w','x','y','z']\n",
    "targets = [\n",
    "    {'boxes':torch.FloatTensor([[0,0],[0,0]]), 'labels':torch.LongTensor([1,0,0,0])}\n",
    "]"
   ]
  },
  {
   "cell_type": "code",
   "execution_count": null,
   "id": "c6a09eb0-2df8-4768-9173-fa84400c7eb9",
   "metadata": {},
   "outputs": [],
   "source": []
  },
  {
   "cell_type": "code",
   "execution_count": 8,
   "id": "2af8f3e5-a334-491c-938a-14f19474c446",
   "metadata": {},
   "outputs": [],
   "source": [
    "def displayCoords(image, coords):\n",
    "    imageCopy = image.copy()\n",
    "    draw = ImageDraw.Draw(imageCopy)\n",
    "    for coord in coords:\n",
    "        x1 = coord[0]\n",
    "        y1 = coord[1]\n",
    "        x2 = coord[2]\n",
    "        y2 = coord[3]\n",
    "        \n",
    "        draw.rectangle([x1,y1,x2,y2], outline=(0,0,0), width=2)\n",
    "        \n",
    "    display(imageCopy)"
   ]
  },
  {
   "cell_type": "code",
   "execution_count": 14,
   "id": "e7d0659f-e721-4475-9357-34776647d31b",
   "metadata": {},
   "outputs": [],
   "source": [
    "def createImage(pixelSize=(600,600), symbols=[], font=None, yBaseOffset=0,angle=0,seed=0) -> Image:\n",
    "    random.seed(seed)\n",
    "    \n",
    "    info = {'boxes' : [], 'labels' : []}\n",
    "    \n",
    "    if font == None:\n",
    "        font = ImageFont.truetype(\"meiryo.ttc\", 40)\n",
    "        \n",
    "    padding = 5\n",
    "    \n",
    "    foreground=(random.randrange(256),random.randrange(256),random.randrange(256), 255)\n",
    "    background=(random.randrange(256),random.randrange(256),random.randrange(256))\n",
    "    \n",
    "    distance = abs(foreground[0]+foreground[1]+foreground[2]-background[0]-background[1]-background[2])\n",
    "    modif = 255//(distance+1)\n",
    "    background=(background[0]*modif,background[1]*modif,background[2]*modif)\n",
    "    \n",
    "    baseFontSize = font.size\n",
    "    \n",
    "    image1 = Image.new(mode='RGBA', size=pixelSize, color=(255,255,255,0))\n",
    "    background1 = Image.new(mode='RGB', size=pixelSize, color=background)\n",
    "    \n",
    "    draw1 = ImageDraw.Draw(image1)\n",
    "    \n",
    "    for symbol in symbols:\n",
    "        x0,y0,width,height = font.getbbox(symbol)\n",
    "        \n",
    "        fontSize = baseFontSize\n",
    "        randXOffset = random.randrange(pixelSize[0] - fontSize)\n",
    "        randYOffset = random.randrange(pixelSize[1] - fontSize)\n",
    "        fontOffsetX = randXOffset\n",
    "        fontOffsetY = yBaseOffset*fontSize + randYOffset\n",
    "        draw1.text((fontOffsetX,fontOffsetY), symbol, foreground, font=font)\n",
    "        info['boxes'].append([\n",
    "            randXOffset-padding, \n",
    "            fontOffsetY-padding, \n",
    "            randXOffset+width+padding, \n",
    "            fontOffsetY+height+padding\n",
    "        ])\n",
    "    \n",
    "    \n",
    "    sampling = Image.Resampling.BICUBIC\n",
    "    \n",
    "    image_rot = background1.copy()\n",
    "    image_rot.paste(image1.rotate(angle,sampling), (0, 0), image1.rotate(angle,sampling).split()[-1])\n",
    "    \n",
    "    #image_rot.show()\n",
    "    return image_rot, info"
   ]
  },
  {
   "cell_type": "code",
   "execution_count": 15,
   "id": "16660c71-7710-4935-beaf-da0cc4f39209",
   "metadata": {},
   "outputs": [
    {
     "data": {
      "image/png": "[encoded data removed]",
      "text/plain": [
       "<PIL.Image.Image image mode=RGB size=600x600>"
      ]
     },
     "metadata": {},
     "output_type": "display_data"
    }
   ],
   "source": [
    "img_test,_ = createImage(\n",
    "    symbols=alphabet[:10],\n",
    "    font=ImageFont.truetype(\"./Fonts/SoulGlyph.ttf\", 40),\n",
    "    seed=11\n",
    ")\n",
    "\n",
    "display(img_test)\n",
    "\n",
    "#img_test.save(\"./Test_Pictures/Test1.jpeg\")"
   ]
  },
  {
   "cell_type": "code",
   "execution_count": 16,
   "id": "4bc61041-49b3-4e1d-81b0-25f929ab6548",
   "metadata": {},
   "outputs": [],
   "source": [
    "def createTrainingSet():\n",
    "    \n",
    "    start = time.time()\n",
    "    nb_images = 1000\n",
    "    list_info = []\n",
    "    for i in range(nb_images):\n",
    "        random.seed(420+i)\n",
    "        pixelSize = (random.randrange(300,600),random.randrange(300,600))\n",
    "        fontSize = random.randrange(30,60)\n",
    "        nbSelected = random.randrange(4,13)\n",
    "        labels = [random.randrange(0,26) for i in range(nbSelected)]\n",
    "        letters = [alphabet[i] for i in labels]\n",
    "        \n",
    "        img, info = createImage(\n",
    "            pixelSize=pixelSize,\n",
    "            symbols=letters,\n",
    "            font=ImageFont.truetype(\"./Fonts/SoulGlyph.ttf\", 40),\n",
    "            yBaseOffset=0.1,\n",
    "            seed=i\n",
    "        )\n",
    "        \n",
    "        info['labels'].extend(labels)\n",
    "        info['image']=\"./Test_Pictures/Image_\" + str(i) + \".jpeg\"\n",
    "        img.save(info['image'])\n",
    "        list_info.append(info)\n",
    "        \n",
    "        if i%50==49:\n",
    "            end = time.time()\n",
    "            ratio = i/nb_images\n",
    "            dt = end-start\n",
    "            expected_time = math.floor(dt*((1-ratio)/ratio))\n",
    "\n",
    "            percent = 100*ratio\n",
    "            percent = math.floor(100*percent)/100\n",
    "            print(str(percent)+\"% of pictures generated. Estimated time left : \" \n",
    "                  + str(expected_time//60) + \"m \" + str(expected_time%60) + \"s\")\n",
    "            \n",
    "    with open('targets.json', 'w', encoding=\"utf-8\") as outfile:\n",
    "        json.dump(list_info, outfile, indent=4)\n",
    "            \n",
    "    print(\"100% of pictures generated.\")"
   ]
  },
  {
   "cell_type": "code",
   "execution_count": 17,
   "id": "06035a27-aaf6-4f41-a695-6d8d52d67928",
   "metadata": {},
   "outputs": [
    {
     "name": "stdout",
     "output_type": "stream",
     "text": [
      "4.9% of pictures generated. Estimated time left : 0m 3s\n",
      "9.9% of pictures generated. Estimated time left : 0m 3s\n",
      "14.89% of pictures generated. Estimated time left : 0m 2s\n",
      "19.9% of pictures generated. Estimated time left : 0m 2s\n",
      "24.9% of pictures generated. Estimated time left : 0m 2s\n",
      "29.9% of pictures generated. Estimated time left : 0m 2s\n",
      "34.9% of pictures generated. Estimated time left : 0m 2s\n",
      "39.9% of pictures generated. Estimated time left : 0m 1s\n",
      "44.9% of pictures generated. Estimated time left : 0m 1s\n",
      "49.9% of pictures generated. Estimated time left : 0m 1s\n",
      "54.9% of pictures generated. Estimated time left : 0m 1s\n",
      "59.9% of pictures generated. Estimated time left : 0m 1s\n",
      "64.9% of pictures generated. Estimated time left : 0m 1s\n",
      "69.89% of pictures generated. Estimated time left : 0m 1s\n",
      "74.9% of pictures generated. Estimated time left : 0m 0s\n",
      "79.9% of pictures generated. Estimated time left : 0m 0s\n",
      "84.9% of pictures generated. Estimated time left : 0m 0s\n",
      "89.9% of pictures generated. Estimated time left : 0m 0s\n",
      "94.9% of pictures generated. Estimated time left : 0m 0s\n",
      "99.9% of pictures generated. Estimated time left : 0m 0s\n",
      "100% of pictures generated.\n"
     ]
    }
   ],
   "source": [
    "createTrainingSet()"
   ]
  },
  {
   "cell_type": "code",
   "execution_count": 13,
   "id": "095bd3ba-63fb-402b-b945-3c1c5b621473",
   "metadata": {},
   "outputs": [
    {
     "data": {
      "image/png": "[encoded data removed]",
      "text/plain": [
       "<PIL.Image.Image image mode=RGB size=579x359>"
      ]
     },
     "metadata": {},
     "output_type": "display_data"
    }
   ],
   "source": [
    "with open('targets.json', 'r', encoding=\"utf-8\") as f:\n",
    "    image_nb = 105\n",
    "    infos = json.load(f)\n",
    "    test_img = Image.open(infos[image_nb]['image'])\n",
    "    displayCoords(test_img, infos[image_nb]['boxes'])\n",
    "    "
   ]
  },
  {
   "cell_type": "code",
   "execution_count": null,
   "id": "79df04fc-e2c8-4a18-a039-e623902cb3aa",
   "metadata": {},
   "outputs": [],
   "source": []
  }
 ],
 "metadata": {
  "kernelspec": {
   "display_name": "Python 3 (ipykernel)",
   "language": "python",
   "name": "python3"
  },
  "language_info": {
   "codemirror_mode": {
    "name": "ipython",
    "version": 3
   },
   "file_extension": ".py",
   "mimetype": "text/x-python",
   "name": "python",
   "nbconvert_exporter": "python",
   "pygments_lexer": "ipython3",
   "version": "3.9.10"
  }
 },
 "nbformat": 4,
 "nbformat_minor": 5
}
